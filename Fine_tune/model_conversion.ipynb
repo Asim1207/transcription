{
 "cells": [
  {
   "cell_type": "code",
   "execution_count": null,
   "metadata": {},
   "outputs": [],
   "source": [
    "# !pip install ctranslate2"
   ]
  },
  {
   "cell_type": "code",
   "execution_count": 1,
   "metadata": {},
   "outputs": [],
   "source": [
    "import ctranslate2\n",
    "from ctranslate2.converters import TransformersConverter\n",
    "\n"
   ]
  },
  {
   "cell_type": "code",
   "execution_count": 3,
   "metadata": {},
   "outputs": [
    {
     "name": "stdout",
     "output_type": "stream",
     "text": [
      "d:\\projects\\transcription\\Fine_tune\n"
     ]
    }
   ],
   "source": [
    "import os\n",
    "print(os.getcwd())"
   ]
  },
  {
   "cell_type": "code",
   "execution_count": 12,
   "metadata": {},
   "outputs": [
    {
     "name": "stderr",
     "output_type": "stream",
     "text": [
      "Special tokens have been added in the vocabulary, make sure the associated word embeddings are fine-tuned or trained.\n"
     ]
    },
    {
     "data": {
      "text/plain": [
       "'model'"
      ]
     },
     "execution_count": 12,
     "metadata": {},
     "output_type": "execute_result"
    }
   ],
   "source": [
    "model_name_or_path = \"whisper-small-hi/checkpoint-100\"\n",
    "output_dir = \"model\"\n",
    "\n",
    "converter = TransformersConverter(model_name_or_path)\n",
    "converter.convert(output_dir, quantization=\"float16\", force=True)"
   ]
  },
  {
   "cell_type": "code",
   "execution_count": 13,
   "metadata": {},
   "outputs": [
    {
     "name": "stdout",
     "output_type": "stream",
     "text": [
      "Collecting faster-whisper\n",
      "  Downloading faster_whisper-1.0.1-py3-none-any.whl.metadata (14 kB)\n",
      "Collecting av==11.* (from faster-whisper)\n",
      "  Downloading av-11.0.0-cp310-cp310-win_amd64.whl.metadata (4.7 kB)\n",
      "Requirement already satisfied: ctranslate2<5,>=4.0 in c:\\users\\user\\.conda\\envs\\whisper\\lib\\site-packages (from faster-whisper) (4.1.0)\n",
      "Requirement already satisfied: huggingface-hub>=0.13 in c:\\users\\user\\.conda\\envs\\whisper\\lib\\site-packages (from faster-whisper) (0.22.2)\n",
      "Requirement already satisfied: tokenizers<0.16,>=0.13 in c:\\users\\user\\.conda\\envs\\whisper\\lib\\site-packages (from faster-whisper) (0.15.2)\n",
      "Collecting onnxruntime<2,>=1.14 (from faster-whisper)\n",
      "  Downloading onnxruntime-1.17.1-cp310-cp310-win_amd64.whl.metadata (4.4 kB)\n",
      "Requirement already satisfied: setuptools in c:\\users\\user\\.conda\\envs\\whisper\\lib\\site-packages (from ctranslate2<5,>=4.0->faster-whisper) (68.2.2)\n",
      "Requirement already satisfied: numpy in c:\\users\\user\\.conda\\envs\\whisper\\lib\\site-packages (from ctranslate2<5,>=4.0->faster-whisper) (1.26.4)\n",
      "Requirement already satisfied: pyyaml<7,>=5.3 in c:\\users\\user\\.conda\\envs\\whisper\\lib\\site-packages (from ctranslate2<5,>=4.0->faster-whisper) (6.0.1)\n",
      "Requirement already satisfied: filelock in c:\\users\\user\\.conda\\envs\\whisper\\lib\\site-packages (from huggingface-hub>=0.13->faster-whisper) (3.13.3)\n",
      "Requirement already satisfied: fsspec>=2023.5.0 in c:\\users\\user\\.conda\\envs\\whisper\\lib\\site-packages (from huggingface-hub>=0.13->faster-whisper) (2024.2.0)\n",
      "Requirement already satisfied: packaging>=20.9 in c:\\users\\user\\.conda\\envs\\whisper\\lib\\site-packages (from huggingface-hub>=0.13->faster-whisper) (24.0)\n",
      "Requirement already satisfied: requests in c:\\users\\user\\.conda\\envs\\whisper\\lib\\site-packages (from huggingface-hub>=0.13->faster-whisper) (2.31.0)\n",
      "Requirement already satisfied: tqdm>=4.42.1 in c:\\users\\user\\.conda\\envs\\whisper\\lib\\site-packages (from huggingface-hub>=0.13->faster-whisper) (4.66.2)\n",
      "Requirement already satisfied: typing-extensions>=3.7.4.3 in c:\\users\\user\\.conda\\envs\\whisper\\lib\\site-packages (from huggingface-hub>=0.13->faster-whisper) (4.11.0)\n",
      "Collecting coloredlogs (from onnxruntime<2,>=1.14->faster-whisper)\n",
      "  Downloading coloredlogs-15.0.1-py2.py3-none-any.whl.metadata (12 kB)\n",
      "Collecting flatbuffers (from onnxruntime<2,>=1.14->faster-whisper)\n",
      "  Downloading flatbuffers-24.3.25-py2.py3-none-any.whl.metadata (850 bytes)\n",
      "Requirement already satisfied: protobuf in c:\\users\\user\\.conda\\envs\\whisper\\lib\\site-packages (from onnxruntime<2,>=1.14->faster-whisper) (5.26.1)\n",
      "Requirement already satisfied: sympy in c:\\users\\user\\.conda\\envs\\whisper\\lib\\site-packages (from onnxruntime<2,>=1.14->faster-whisper) (1.12)\n",
      "Requirement already satisfied: colorama in c:\\users\\user\\.conda\\envs\\whisper\\lib\\site-packages (from tqdm>=4.42.1->huggingface-hub>=0.13->faster-whisper) (0.4.6)\n",
      "Collecting humanfriendly>=9.1 (from coloredlogs->onnxruntime<2,>=1.14->faster-whisper)\n",
      "  Downloading humanfriendly-10.0-py2.py3-none-any.whl.metadata (9.2 kB)\n",
      "Requirement already satisfied: charset-normalizer<4,>=2 in c:\\users\\user\\.conda\\envs\\whisper\\lib\\site-packages (from requests->huggingface-hub>=0.13->faster-whisper) (3.3.2)\n",
      "Requirement already satisfied: idna<4,>=2.5 in c:\\users\\user\\.conda\\envs\\whisper\\lib\\site-packages (from requests->huggingface-hub>=0.13->faster-whisper) (3.6)\n",
      "Requirement already satisfied: urllib3<3,>=1.21.1 in c:\\users\\user\\.conda\\envs\\whisper\\lib\\site-packages (from requests->huggingface-hub>=0.13->faster-whisper) (2.2.1)\n",
      "Requirement already satisfied: certifi>=2017.4.17 in c:\\users\\user\\.conda\\envs\\whisper\\lib\\site-packages (from requests->huggingface-hub>=0.13->faster-whisper) (2024.2.2)\n",
      "Requirement already satisfied: mpmath>=0.19 in c:\\users\\user\\.conda\\envs\\whisper\\lib\\site-packages (from sympy->onnxruntime<2,>=1.14->faster-whisper) (1.3.0)\n",
      "Collecting pyreadline3 (from humanfriendly>=9.1->coloredlogs->onnxruntime<2,>=1.14->faster-whisper)\n",
      "  Downloading pyreadline3-3.4.1-py3-none-any.whl.metadata (2.0 kB)\n",
      "Downloading faster_whisper-1.0.1-py3-none-any.whl (1.5 MB)\n",
      "   ---------------------------------------- 0.0/1.5 MB ? eta -:--:--\n",
      "   ----------- ---------------------------- 0.5/1.5 MB 13.8 MB/s eta 0:00:01\n",
      "   --------------------------- ------------ 1.0/1.5 MB 16.4 MB/s eta 0:00:01\n",
      "   --------------------------- ------------ 1.0/1.5 MB 16.4 MB/s eta 0:00:01\n",
      "   --------------------------- ------------ 1.0/1.5 MB 16.4 MB/s eta 0:00:01\n",
      "   --------------------------- ------------ 1.0/1.5 MB 16.4 MB/s eta 0:00:01\n",
      "   --------------------------- ------------ 1.0/1.5 MB 16.4 MB/s eta 0:00:01\n",
      "   --------------------------- ------------ 1.0/1.5 MB 16.4 MB/s eta 0:00:01\n",
      "   ------------------------------------ --- 1.4/1.5 MB 5.3 MB/s eta 0:00:01\n",
      "   ---------------------------------------- 1.5/1.5 MB 5.2 MB/s eta 0:00:00\n",
      "Downloading av-11.0.0-cp310-cp310-win_amd64.whl (25.9 MB)\n",
      "   ---------------------------------------- 0.0/25.9 MB ? eta -:--:--\n",
      "   - -------------------------------------- 1.0/25.9 MB 30.7 MB/s eta 0:00:01\n",
      "   - -------------------------------------- 1.0/25.9 MB 33.4 MB/s eta 0:00:01\n",
      "   - -------------------------------------- 1.0/25.9 MB 33.4 MB/s eta 0:00:01\n",
      "   - -------------------------------------- 1.0/25.9 MB 33.4 MB/s eta 0:00:01\n",
      "   - -------------------------------------- 1.0/25.9 MB 33.4 MB/s eta 0:00:01\n",
      "   - -------------------------------------- 1.0/25.9 MB 33.4 MB/s eta 0:00:01\n",
      "   - -------------------------------------- 1.0/25.9 MB 33.4 MB/s eta 0:00:01\n",
      "   -- ------------------------------------- 1.6/25.9 MB 5.5 MB/s eta 0:00:05\n",
      "   --- ------------------------------------ 2.1/25.9 MB 6.7 MB/s eta 0:00:04\n",
      "   --- ------------------------------------ 2.1/25.9 MB 6.7 MB/s eta 0:00:04\n",
      "   --- ------------------------------------ 2.1/25.9 MB 6.7 MB/s eta 0:00:04\n",
      "   --- ------------------------------------ 2.1/25.9 MB 6.7 MB/s eta 0:00:04\n",
      "   --- ------------------------------------ 2.1/25.9 MB 6.7 MB/s eta 0:00:04\n",
      "   ---- ----------------------------------- 2.6/25.9 MB 5.2 MB/s eta 0:00:05\n",
      "   ----- ---------------------------------- 3.5/25.9 MB 6.5 MB/s eta 0:00:04\n",
      "   ------ --------------------------------- 4.2/25.9 MB 7.4 MB/s eta 0:00:03\n",
      "   ------ --------------------------------- 4.2/25.9 MB 7.4 MB/s eta 0:00:03\n",
      "   ------ --------------------------------- 4.2/25.9 MB 7.4 MB/s eta 0:00:03\n",
      "   ------ --------------------------------- 4.2/25.9 MB 7.4 MB/s eta 0:00:03\n",
      "   ------ --------------------------------- 4.2/25.9 MB 7.4 MB/s eta 0:00:03\n",
      "   ------ --------------------------------- 4.3/25.9 MB 5.7 MB/s eta 0:00:04\n",
      "   ------- -------------------------------- 5.1/25.9 MB 6.6 MB/s eta 0:00:04\n",
      "   -------- ------------------------------- 5.2/25.9 MB 6.6 MB/s eta 0:00:04\n",
      "   -------- ------------------------------- 5.2/25.9 MB 6.6 MB/s eta 0:00:04\n",
      "   -------- ------------------------------- 5.2/25.9 MB 6.6 MB/s eta 0:00:04\n",
      "   -------- ------------------------------- 5.2/25.9 MB 6.6 MB/s eta 0:00:04\n",
      "   -------- ------------------------------- 5.2/25.9 MB 6.6 MB/s eta 0:00:04\n",
      "   -------- ------------------------------- 5.6/25.9 MB 5.6 MB/s eta 0:00:04\n",
      "   --------- ------------------------------ 6.3/25.9 MB 6.1 MB/s eta 0:00:04\n",
      "   --------- ------------------------------ 6.3/25.9 MB 6.1 MB/s eta 0:00:04\n",
      "   --------- ------------------------------ 6.3/25.9 MB 6.1 MB/s eta 0:00:04\n",
      "   --------- ------------------------------ 6.3/25.9 MB 6.1 MB/s eta 0:00:04\n",
      "   --------- ------------------------------ 6.3/25.9 MB 6.1 MB/s eta 0:00:04\n",
      "   --------- ------------------------------ 6.3/25.9 MB 6.1 MB/s eta 0:00:04\n",
      "   ----------- ---------------------------- 7.1/25.9 MB 5.7 MB/s eta 0:00:04\n",
      "   ------------ --------------------------- 8.3/25.9 MB 6.4 MB/s eta 0:00:03\n",
      "   ------------- -------------------------- 9.0/25.9 MB 6.8 MB/s eta 0:00:03\n",
      "   -------------- ------------------------- 9.4/25.9 MB 7.0 MB/s eta 0:00:03\n",
      "   -------------- ------------------------- 9.4/25.9 MB 7.0 MB/s eta 0:00:03\n",
      "   -------------- ------------------------- 9.4/25.9 MB 7.0 MB/s eta 0:00:03\n",
      "   -------------- ------------------------- 9.4/25.9 MB 7.0 MB/s eta 0:00:03\n",
      "   -------------- ------------------------- 9.4/25.9 MB 7.0 MB/s eta 0:00:03\n",
      "   --------------- ------------------------ 9.8/25.9 MB 6.3 MB/s eta 0:00:03\n",
      "   ---------------- ----------------------- 10.5/25.9 MB 6.5 MB/s eta 0:00:03\n",
      "   ---------------- ----------------------- 10.5/25.9 MB 6.5 MB/s eta 0:00:03\n",
      "   ---------------- ----------------------- 10.5/25.9 MB 6.5 MB/s eta 0:00:03\n",
      "   ---------------- ----------------------- 10.5/25.9 MB 6.5 MB/s eta 0:00:03\n",
      "   ---------------- ----------------------- 10.5/25.9 MB 6.5 MB/s eta 0:00:03\n",
      "   ---------------- ----------------------- 10.5/25.9 MB 6.5 MB/s eta 0:00:03\n",
      "   ----------------- ---------------------- 11.4/25.9 MB 6.5 MB/s eta 0:00:03\n",
      "   ----------------- ---------------------- 11.5/25.9 MB 6.5 MB/s eta 0:00:03\n",
      "   ----------------- ---------------------- 11.5/25.9 MB 6.5 MB/s eta 0:00:03\n",
      "   ----------------- ---------------------- 11.5/25.9 MB 6.5 MB/s eta 0:00:03\n",
      "   ----------------- ---------------------- 11.5/25.9 MB 6.5 MB/s eta 0:00:03\n",
      "   ----------------- ---------------------- 11.5/25.9 MB 6.5 MB/s eta 0:00:03\n",
      "   ------------------ --------------------- 12.3/25.9 MB 6.0 MB/s eta 0:00:03\n",
      "   ------------------- -------------------- 12.6/25.9 MB 6.5 MB/s eta 0:00:03\n",
      "   ------------------- -------------------- 12.6/25.9 MB 6.5 MB/s eta 0:00:03\n",
      "   ------------------- -------------------- 12.6/25.9 MB 6.5 MB/s eta 0:00:03\n",
      "   ------------------- -------------------- 12.6/25.9 MB 6.5 MB/s eta 0:00:03\n",
      "   ------------------- -------------------- 12.6/25.9 MB 6.5 MB/s eta 0:00:03\n",
      "   ------------------- -------------------- 12.9/25.9 MB 5.8 MB/s eta 0:00:03\n",
      "   --------------------- ------------------ 13.6/25.9 MB 5.8 MB/s eta 0:00:03\n",
      "   --------------------- ------------------ 13.6/25.9 MB 5.8 MB/s eta 0:00:03\n",
      "   --------------------- ------------------ 13.6/25.9 MB 5.8 MB/s eta 0:00:03\n",
      "   --------------------- ------------------ 13.6/25.9 MB 5.8 MB/s eta 0:00:03\n",
      "   --------------------- ------------------ 13.6/25.9 MB 5.8 MB/s eta 0:00:03\n",
      "   --------------------- ------------------ 13.6/25.9 MB 5.8 MB/s eta 0:00:03\n",
      "   --------------------- ------------------ 13.6/25.9 MB 5.8 MB/s eta 0:00:03\n",
      "   --------------------- ------------------ 14.2/25.9 MB 5.2 MB/s eta 0:00:03\n",
      "   ----------------------- ---------------- 15.1/25.9 MB 5.6 MB/s eta 0:00:02\n",
      "   ------------------------ --------------- 16.1/25.9 MB 6.4 MB/s eta 0:00:02\n",
      "   ------------------------- -------------- 16.8/25.9 MB 7.3 MB/s eta 0:00:02\n",
      "   ------------------------- -------------- 16.8/25.9 MB 7.3 MB/s eta 0:00:02\n",
      "   ------------------------- -------------- 16.8/25.9 MB 7.3 MB/s eta 0:00:02\n",
      "   ------------------------- -------------- 16.8/25.9 MB 7.3 MB/s eta 0:00:02\n",
      "   ------------------------- -------------- 16.8/25.9 MB 7.3 MB/s eta 0:00:02\n",
      "   ------------------------- -------------- 16.8/25.9 MB 7.3 MB/s eta 0:00:02\n",
      "   -------------------------- ------------- 17.0/25.9 MB 6.3 MB/s eta 0:00:02\n",
      "   --------------------------- ------------ 18.0/25.9 MB 6.3 MB/s eta 0:00:02\n",
      "   ----------------------------- ---------- 18.9/25.9 MB 6.3 MB/s eta 0:00:02\n",
      "   ----------------------------- ---------- 18.9/25.9 MB 6.3 MB/s eta 0:00:02\n",
      "   ----------------------------- ---------- 18.9/25.9 MB 6.3 MB/s eta 0:00:02\n",
      "   ----------------------------- ---------- 18.9/25.9 MB 6.3 MB/s eta 0:00:02\n",
      "   ----------------------------- ---------- 18.9/25.9 MB 6.3 MB/s eta 0:00:02\n",
      "   ----------------------------- ---------- 18.9/25.9 MB 6.3 MB/s eta 0:00:02\n",
      "   ------------------------------ --------- 19.7/25.9 MB 5.6 MB/s eta 0:00:02\n",
      "   ------------------------------- -------- 20.5/25.9 MB 6.3 MB/s eta 0:00:01\n",
      "   -------------------------------- ------- 21.0/25.9 MB 7.2 MB/s eta 0:00:01\n",
      "   -------------------------------- ------- 21.0/25.9 MB 7.2 MB/s eta 0:00:01\n",
      "   -------------------------------- ------- 21.0/25.9 MB 7.2 MB/s eta 0:00:01\n",
      "   -------------------------------- ------- 21.0/25.9 MB 7.2 MB/s eta 0:00:01\n",
      "   -------------------------------- ------- 21.0/25.9 MB 7.2 MB/s eta 0:00:01\n",
      "   --------------------------------- ------ 21.4/25.9 MB 6.4 MB/s eta 0:00:01\n",
      "   ---------------------------------- ----- 22.0/25.9 MB 7.2 MB/s eta 0:00:01\n",
      "   ---------------------------------- ----- 22.0/25.9 MB 7.2 MB/s eta 0:00:01\n",
      "   ---------------------------------- ----- 22.0/25.9 MB 7.2 MB/s eta 0:00:01\n",
      "   ---------------------------------- ----- 22.0/25.9 MB 7.2 MB/s eta 0:00:01\n",
      "   ---------------------------------- ----- 22.0/25.9 MB 7.2 MB/s eta 0:00:01\n",
      "   ---------------------------------- ----- 22.1/25.9 MB 6.3 MB/s eta 0:00:01\n",
      "   ----------------------------------- ---- 23.1/25.9 MB 7.2 MB/s eta 0:00:01\n",
      "   ----------------------------------- ---- 23.1/25.9 MB 7.2 MB/s eta 0:00:01\n",
      "   ----------------------------------- ---- 23.1/25.9 MB 7.2 MB/s eta 0:00:01\n",
      "   ----------------------------------- ---- 23.1/25.9 MB 7.2 MB/s eta 0:00:01\n",
      "   ----------------------------------- ---- 23.1/25.9 MB 7.2 MB/s eta 0:00:01\n",
      "   ----------------------------------- ---- 23.1/25.9 MB 7.2 MB/s eta 0:00:01\n",
      "   ------------------------------------ --- 23.7/25.9 MB 6.3 MB/s eta 0:00:01\n",
      "   ------------------------------------- -- 24.1/25.9 MB 7.4 MB/s eta 0:00:01\n",
      "   ------------------------------------- -- 24.1/25.9 MB 7.4 MB/s eta 0:00:01\n",
      "   ------------------------------------- -- 24.1/25.9 MB 7.4 MB/s eta 0:00:01\n",
      "   ------------------------------------- -- 24.1/25.9 MB 7.4 MB/s eta 0:00:01\n",
      "   ------------------------------------- -- 24.1/25.9 MB 7.4 MB/s eta 0:00:01\n",
      "   -------------------------------------- - 24.7/25.9 MB 6.5 MB/s eta 0:00:01\n",
      "   -------------------------------------- - 25.2/25.9 MB 6.5 MB/s eta 0:00:01\n",
      "   -------------------------------------- - 25.2/25.9 MB 6.5 MB/s eta 0:00:01\n",
      "   -------------------------------------- - 25.2/25.9 MB 6.5 MB/s eta 0:00:01\n",
      "   -------------------------------------- - 25.2/25.9 MB 6.5 MB/s eta 0:00:01\n",
      "   -------------------------------------- - 25.2/25.9 MB 6.5 MB/s eta 0:00:01\n",
      "   ---------------------------------------  25.8/25.9 MB 5.7 MB/s eta 0:00:01\n",
      "   ---------------------------------------  25.9/25.9 MB 5.7 MB/s eta 0:00:01\n",
      "   ---------------------------------------- 25.9/25.9 MB 5.6 MB/s eta 0:00:00\n",
      "Downloading onnxruntime-1.17.1-cp310-cp310-win_amd64.whl (5.6 MB)\n",
      "   ---------------------------------------- 0.0/5.6 MB ? eta -:--:--\n",
      "   ----- ---------------------------------- 0.8/5.6 MB 15.9 MB/s eta 0:00:01\n",
      "   ----------- ---------------------------- 1.6/5.6 MB 20.9 MB/s eta 0:00:01\n",
      "   ----------------- ---------------------- 2.4/5.6 MB 22.0 MB/s eta 0:00:01\n",
      "   ---------------------- ----------------- 3.1/5.6 MB 22.2 MB/s eta 0:00:01\n",
      "   ---------------------- ----------------- 3.1/5.6 MB 22.2 MB/s eta 0:00:01\n",
      "   ---------------------- ----------------- 3.1/5.6 MB 22.2 MB/s eta 0:00:01\n",
      "   ---------------------- ----------------- 3.1/5.6 MB 22.2 MB/s eta 0:00:01\n",
      "   ---------------------- ----------------- 3.1/5.6 MB 22.2 MB/s eta 0:00:01\n",
      "   ---------------------- ----------------- 3.1/5.6 MB 22.2 MB/s eta 0:00:01\n",
      "   --------------------------- ------------ 3.8/5.6 MB 10.1 MB/s eta 0:00:01\n",
      "   ------------------------------- -------- 4.5/5.6 MB 10.9 MB/s eta 0:00:01\n",
      "   ------------------------------------- -- 5.3/5.6 MB 12.0 MB/s eta 0:00:01\n",
      "   ---------------------------------------- 5.6/5.6 MB 11.9 MB/s eta 0:00:00\n",
      "Downloading coloredlogs-15.0.1-py2.py3-none-any.whl (46 kB)\n",
      "   ---------------------------------------- 0.0/46.0 kB ? eta -:--:--\n",
      "   ---------------------------------------- 46.0/46.0 kB ? eta 0:00:00\n",
      "Downloading flatbuffers-24.3.25-py2.py3-none-any.whl (26 kB)\n",
      "Downloading humanfriendly-10.0-py2.py3-none-any.whl (86 kB)\n",
      "   ---------------------------------------- 0.0/86.8 kB ? eta -:--:--\n",
      "   ---------------------------------------- 86.8/86.8 kB ? eta 0:00:00\n",
      "Downloading pyreadline3-3.4.1-py3-none-any.whl (95 kB)\n",
      "   ---------------------------------------- 0.0/95.2 kB ? eta -:--:--\n",
      "   ---------------------------------------- 95.2/95.2 kB ? eta 0:00:00\n",
      "Installing collected packages: pyreadline3, flatbuffers, humanfriendly, av, coloredlogs, onnxruntime, faster-whisper\n",
      "Successfully installed av-11.0.0 coloredlogs-15.0.1 faster-whisper-1.0.1 flatbuffers-24.3.25 humanfriendly-10.0 onnxruntime-1.17.1 pyreadline3-3.4.1\n",
      "Note: you may need to restart the kernel to use updated packages.\n"
     ]
    }
   ],
   "source": [
    "%pip install faster-whisper\n"
   ]
  },
  {
   "cell_type": "code",
   "execution_count": 1,
   "metadata": {},
   "outputs": [],
   "source": [
    "import logging\n",
    "\n",
    "logging.basicConfig()\n",
    "logging.getLogger(\"faster_whisper\").setLevel(logging.DEBUG)"
   ]
  },
  {
   "cell_type": "code",
   "execution_count": 5,
   "metadata": {},
   "outputs": [
    {
     "data": {
      "application/vnd.jupyter.widget-view+json": {
       "model_id": "ae574cd667cc4407821ba7925d77daff",
       "version_major": 2,
       "version_minor": 0
      },
      "text/plain": [
       "tokenizer.json:   0%|          | 0.00/2.48M [00:00<?, ?B/s]"
      ]
     },
     "metadata": {},
     "output_type": "display_data"
    },
    {
     "name": "stderr",
     "output_type": "stream",
     "text": [
      "c:\\Users\\user\\.conda\\envs\\whisper\\lib\\site-packages\\huggingface_hub\\file_download.py:148: UserWarning: `huggingface_hub` cache-system uses symlinks by default to efficiently store duplicated files but your machine does not support them in C:\\Users\\user\\.cache\\huggingface\\hub\\models--openai--whisper-tiny. Caching files will still work but in a degraded version that might require more space on your disk. This warning can be disabled by setting the `HF_HUB_DISABLE_SYMLINKS_WARNING` environment variable. For more details, see https://huggingface.co/docs/huggingface_hub/how-to-cache#limitations.\n",
      "To support symlinks on Windows, you either need to activate Developer Mode or to run Python as an administrator. In order to see activate developer mode, see this article: https://docs.microsoft.com/en-us/windows/apps/get-started/enable-your-device-for-development\n",
      "  warnings.warn(message)\n"
     ]
    }
   ],
   "source": [
    "from faster_whisper import WhisperModel\n",
    "\n",
    "model = WhisperModel(\"model\")\n"
   ]
  },
  {
   "cell_type": "code",
   "execution_count": 6,
   "metadata": {},
   "outputs": [
    {
     "data": {
      "text/plain": [
       "<faster_whisper.transcribe.WhisperModel at 0x1d937fa6ad0>"
      ]
     },
     "execution_count": 6,
     "metadata": {},
     "output_type": "execute_result"
    }
   ],
   "source": [
    "model"
   ]
  },
  {
   "cell_type": "code",
   "execution_count": null,
   "metadata": {},
   "outputs": [],
   "source": []
  }
 ],
 "metadata": {
  "kernelspec": {
   "display_name": "whisper",
   "language": "python",
   "name": "python3"
  },
  "language_info": {
   "codemirror_mode": {
    "name": "ipython",
    "version": 3
   },
   "file_extension": ".py",
   "mimetype": "text/x-python",
   "name": "python",
   "nbconvert_exporter": "python",
   "pygments_lexer": "ipython3",
   "version": "3.10.14"
  }
 },
 "nbformat": 4,
 "nbformat_minor": 2
}
